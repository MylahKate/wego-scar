{
 "cells": [
  {
   "cell_type": "code",
   "execution_count": 1,
   "id": "6e6ff93b",
   "metadata": {},
   "outputs": [],
   "source": [
    "import requests\n",
    "import json"
   ]
  },
  {
   "cell_type": "code",
   "execution_count": 2,
   "id": "5f0fad24",
   "metadata": {},
   "outputs": [],
   "source": [
    "with open('../data/WeGo.json') as fi:\n",
    "    credentials = json.load(fi)"
   ]
  },
  {
   "cell_type": "code",
   "execution_count": 3,
   "id": "9ebdc178",
   "metadata": {},
   "outputs": [],
   "source": [
    "Authorization = credentials['Authorization']"
   ]
  },
  {
   "cell_type": "code",
   "execution_count": 5,
   "id": "a839b90f",
   "metadata": {},
   "outputs": [],
   "source": [
    "URLR = 'https://api.goswift.ly/otp/nashville/by-route'\n",
    "\n",
    "params = {\n",
    "    \"data\": [\n",
    "    {\n",
    "      \"early\": 0,\n",
    "      \"late\": 0,\n",
    "      \"onTime\": 0,\n",
    "      \"routeShortName\": \"50\",\n",
    "      \"total\": 0\n",
    "    }\n",
    "  ],\n",
    "  \"route\": \"50\",\n",
    "}\n",
    "\n",
    "headers = {'Authorization': Authorization,\n",
    "          'Content-Type': 'application/json'}"
   ]
  },
  {
   "cell_type": "code",
   "execution_count": 6,
   "id": "b8ac5cdd",
   "metadata": {},
   "outputs": [],
   "source": [
    "response = requests.get(URLR, params = params, headers = headers)"
   ]
  },
  {
   "cell_type": "code",
   "execution_count": 7,
   "id": "6a254be6",
   "metadata": {},
   "outputs": [
    {
     "data": {
      "text/plain": [
       "{'errorCode': 403, 'errorMessage': 'Permission Denied'}"
      ]
     },
     "execution_count": 7,
     "metadata": {},
     "output_type": "execute_result"
    }
   ],
   "source": [
    "res0 = response.json()\n",
    "res0"
   ]
  },
  {
   "cell_type": "code",
   "execution_count": 19,
   "id": "24491d51",
   "metadata": {},
   "outputs": [
    {
     "data": {
      "text/plain": [
       "dict_keys(['success', 'route', 'data'])"
      ]
     },
     "execution_count": 19,
     "metadata": {},
     "output_type": "execute_result"
    }
   ],
   "source": [
    "res0.keys()"
   ]
  },
  {
   "cell_type": "code",
   "execution_count": null,
   "id": "cbd4ae0f",
   "metadata": {},
   "outputs": [],
   "source": [
    "URL50 = 'https://api.goswift.ly/info/nashville/routes'\n",
    "\n",
    "\n",
    "headers = {'Authorization': Authorization,\n",
    "          'Content-Type': 'application/json'}"
   ]
  },
  {
   "cell_type": "code",
   "execution_count": null,
   "id": "d4ea41c4",
   "metadata": {},
   "outputs": [],
   "source": [
    "response2 = requests.get(URL2, headers = headers)\n",
    "response2.json()"
   ]
  },
  {
   "cell_type": "code",
   "execution_count": null,
   "id": "a69b7ac1",
   "metadata": {},
   "outputs": [],
   "source": []
  },
  {
   "cell_type": "code",
   "execution_count": null,
   "id": "1650276b",
   "metadata": {},
   "outputs": [],
   "source": [
    "URL50 = 'https://api.goswift.ly/info/nashville/routes'\n",
    "\n",
    "\n",
    "headers = {'Authorization': Authorization,\n",
    "          'Content-Type': 'application/json'}"
   ]
  },
  {
   "cell_type": "code",
   "execution_count": null,
   "id": "d79fbd74",
   "metadata": {},
   "outputs": [],
   "source": [
    "response2 = requests.get(URL2, headers = headers)\n",
    "response2.json()"
   ]
  },
  {
   "cell_type": "code",
   "execution_count": null,
   "id": "3c1f2a68",
   "metadata": {},
   "outputs": [],
   "source": []
  }
 ],
 "metadata": {
  "kernelspec": {
   "display_name": "Python 3 (ipykernel)",
   "language": "python",
   "name": "python3"
  },
  "language_info": {
   "codemirror_mode": {
    "name": "ipython",
    "version": 3
   },
   "file_extension": ".py",
   "mimetype": "text/x-python",
   "name": "python",
   "nbconvert_exporter": "python",
   "pygments_lexer": "ipython3",
   "version": "3.9.12"
  }
 },
 "nbformat": 4,
 "nbformat_minor": 5
}
