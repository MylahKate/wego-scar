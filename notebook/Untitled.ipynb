{
 "cells": [
  {
   "cell_type": "code",
   "execution_count": null,
   "id": "43ec399a",
   "metadata": {},
   "outputs": [],
   "source": [
    "import requests\n",
    "import pandas as pd\n",
    "import matplotlib.pyplot as plt\n",
    "import numpy as np\n",
    "\n",
    "%matplotlib inline\n",
    "\n",
    "import requests\n",
    "import json\n",
    "import geopandas as gpd"
   ]
  },
  {
   "cell_type": "markdown",
   "id": "ed2883c0",
   "metadata": {},
   "source": [
    "# WeGo Public Transit\n",
    "\n",
    "[WeGo Public Transit](https://www.wegotransit.com/) is a public transit system serving the Greater Nashville\n",
    "and Davidson County area. WeGo provides local and regional bus routes, the WeGo Star train service connecting\n",
    "Lebanon to downtown Nashville, along with several other transit services.\n",
    "\n",
    "In this project, your goal will be to analyze data from WeGo's bus routes and attempt to identify intersections\n",
    "and other locations which experience frequent delays. This analysis can look by route, by direction of travel,\n",
    "and by day or day of the week.\n",
    "\n",
    "You can also consider time of day in your investigation (for example, comparing\n",
    "the AM and PM rush on Monday through Friday).\n",
    "\n",
    "You can obtain the data for this project through Swiftly. You will be provided with an API key to  access this data.\n",
    "The API that you will be using is the [Speed Map API](https://swiftly-inc.stoplight.io/docs/standalone/573bc3fb95867-speed-map),\n",
    "which provides average speed information for a single route and direction over a given date range.\n",
    "\n",
    "Note that the API can return either speed data at the stop segment level or return high resolution data,\n",
    "which provides information for stop segments of approximately 25 meters along with more detailed speed and duration information.\n",
    "\n",
    "Please take the time to carefully read the API documentation so that you are familiar with the query parameter option\n",
    "and understand the response data.\n",
    "\n",
    "You can get more information about these routes, such as route numbers and stop information,\n",
    "using the [Agency Routes API](https://swiftly-inc.stoplight.io/docs/standalone/5c0bd000bb0f2-agency-routes).\n",
    "A user-friendly map showing all routes is available at https://www.wegotransit.com/ride/maps-schedules/bus/. \n",
    "\n",
    "If time allows, investigate all routes, but start with the high ridership and frequent routes:\n",
    "* 3: West End\n",
    "* 7: Hillsboro\n",
    "* 22: Bordeaux\n",
    "* 23: Dickerson Pike\n",
    "* 50: Charlotte Pike\n",
    "* 52: Nolensville Pike\n",
    "* 55: Murfreesboro Pike\n",
    "* 56: Gallatin Pike"
   ]
  },
  {
   "cell_type": "markdown",
   "id": "e270da30",
   "metadata": {},
   "source": [
    "# API access\n",
    "Agency Info: agency_details, routes, schedule\n",
    "\n",
    "Speed-map: Check all, speed-map"
   ]
  },
  {
   "cell_type": "code",
   "execution_count": 1,
   "id": "99d6d3c3",
   "metadata": {},
   "outputs": [
    {
     "ename": "NameError",
     "evalue": "name 'json' is not defined",
     "output_type": "error",
     "traceback": [
      "\u001b[1;31m---------------------------------------------------------------------------\u001b[0m",
      "\u001b[1;31mNameError\u001b[0m                                 Traceback (most recent call last)",
      "Input \u001b[1;32mIn [1]\u001b[0m, in \u001b[0;36m<cell line: 1>\u001b[1;34m()\u001b[0m\n\u001b[0;32m      1\u001b[0m \u001b[38;5;28;01mwith\u001b[39;00m \u001b[38;5;28mopen\u001b[39m(\u001b[38;5;124m'\u001b[39m\u001b[38;5;124m../data/WeGo.json\u001b[39m\u001b[38;5;124m'\u001b[39m) \u001b[38;5;28;01mas\u001b[39;00m fi:\n\u001b[1;32m----> 2\u001b[0m     credentials \u001b[38;5;241m=\u001b[39m \u001b[43mjson\u001b[49m\u001b[38;5;241m.\u001b[39mload(fi)\n",
      "\u001b[1;31mNameError\u001b[0m: name 'json' is not defined"
     ]
    }
   ],
   "source": [
    "with open('../data/WeGo.json') as fi:\n",
    "    credentials = json.load(fi)"
   ]
  },
  {
   "cell_type": "code",
   "execution_count": 2,
   "id": "02b43d3f",
   "metadata": {},
   "outputs": [
    {
     "ename": "NameError",
     "evalue": "name 'credentials' is not defined",
     "output_type": "error",
     "traceback": [
      "\u001b[1;31m---------------------------------------------------------------------------\u001b[0m",
      "\u001b[1;31mNameError\u001b[0m                                 Traceback (most recent call last)",
      "Input \u001b[1;32mIn [2]\u001b[0m, in \u001b[0;36m<cell line: 1>\u001b[1;34m()\u001b[0m\n\u001b[1;32m----> 1\u001b[0m Authorization \u001b[38;5;241m=\u001b[39m \u001b[43mcredentials\u001b[49m[\u001b[38;5;124m'\u001b[39m\u001b[38;5;124mAuthorization\u001b[39m\u001b[38;5;124m'\u001b[39m]\n",
      "\u001b[1;31mNameError\u001b[0m: name 'credentials' is not defined"
     ]
    }
   ],
   "source": [
    "Authorization = credentials['Authorization']"
   ]
  },
  {
   "cell_type": "code",
   "execution_count": null,
   "id": "52f226ab",
   "metadata": {},
   "outputs": [],
   "source": [
    "URL = 'https://api.goswift.ly/speed-map/nashville/route/50'\n",
    "\n",
    "params = {\n",
    "    'direction': '1',\n",
    "    'startDate': '01-25-2022',\n",
    "    'beginTime' : '06:00',\n",
    "    'daysOfWeek' : '1,2,3,4,5',\n",
    "    'endDate' : '02-24-2022',\n",
    "    'endTime' : '09:00',\n",
    "    'format' : 'geojson',\n",
    "    'excludeDates': '01-17-2022,02-18-2022,03-14-2022,03-15-2022,03-16-2022,03-17-2022,03-18-2022,04-14-2022,04-15-2022,05-30-2022,07-04-2022',\n",
    "    'resolution': 'hiRes',\n",
    "}\n",
    "\n",
    "params1 = {\n",
    "    'direction': '1',\n",
    "    'startDate': '01-25-2022',\n",
    "    'beginTime' : '06:00',\n",
    "    'daysOfWeek' : '1,2,3,4,5',\n",
    "    'endDate' : '02-24-2022',\n",
    "    'endTime' : '09:00',\n",
    "    'excludeDates': '01-17-2022,02-18-2022,03-14-2022,03-15-2022,03-16-2022,03-17-2022,03-18-2022,04-14-2022,04-15-2022,05-30-2022,07-04-2022',\n",
    "    'resolution': 'hiRes',\n",
    "}\n",
    "\n",
    "headers = {'Authorization': Authorization,\n",
    "          'Content-Type': 'application/json'}\n",
    "\n",
    "janfebinbound = concat_frames(requests.get(URL, params = params, headers = headers), requests.get(URL, params = params1, headers = headers))\n",
    "\n",
    "janfebinbound = janfebinbound.loc[janfebinbound['countForSegment'] > janfebinbound['countForSegment'].max()/2]\n",
    "\n",
    "janfebinbound"
   ]
  },
  {
   "cell_type": "code",
   "execution_count": null,
   "id": "1a4a516d",
   "metadata": {},
   "outputs": [],
   "source": []
  },
  {
   "cell_type": "code",
   "execution_count": null,
   "id": "e3952cd3",
   "metadata": {},
   "outputs": [],
   "source": []
  },
  {
   "cell_type": "code",
   "execution_count": null,
   "id": "35a6a69e",
   "metadata": {},
   "outputs": [],
   "source": []
  },
  {
   "cell_type": "code",
   "execution_count": null,
   "id": "36814211",
   "metadata": {},
   "outputs": [],
   "source": []
  }
 ],
 "metadata": {
  "kernelspec": {
   "display_name": "Python 3 (ipykernel)",
   "language": "python",
   "name": "python3"
  },
  "language_info": {
   "codemirror_mode": {
    "name": "ipython",
    "version": 3
   },
   "file_extension": ".py",
   "mimetype": "text/x-python",
   "name": "python",
   "nbconvert_exporter": "python",
   "pygments_lexer": "ipython3",
   "version": "3.8.5"
  }
 },
 "nbformat": 4,
 "nbformat_minor": 5
}
